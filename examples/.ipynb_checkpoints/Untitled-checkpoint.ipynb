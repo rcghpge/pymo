{
 "cells": [
  {
   "cell_type": "code",
   "execution_count": 17,
   "id": "ff22b89f-2bb2-4063-a265-716db73158d4",
   "metadata": {},
   "outputs": [],
   "source": [
    "# PyMo Sci-kit Learn Model Example\n",
    "from python import Python\n",
    "\n",
    "fn main() raises:\n",
    "    # Import Packages/Libraries\n",
    "    var pd = Python.import_module(\"pandas\")\n",
    "    var sklearn_datasets = Python.import_module(\"sklearn.datasets\")\n",
    "\n",
    "    # Load the Iris dataset\n",
    "    var iris = sklearn_datasets.load_iris()\n",
    "    var data = pd.DataFrame(data=iris[\"data\"], columns=iris[\"feature_names\"])\n",
    "    data['target'] = iris[\"target\"]\n",
    "\n",
    "    # Display the first few rows of the dataset\n",
    "    print(data.head())"
   ]
  },
  {
   "cell_type": "code",
   "execution_count": null,
   "id": "5c224bea-0a02-4c7e-ba51-3b154b092c10",
   "metadata": {},
   "outputs": [],
   "source": []
  }
 ],
 "metadata": {
  "kernelspec": {
   "display_name": "MAX (Conda ENV Mojo kernel)",
   "language": "mojo",
   "name": "mojo"
  },
  "language_info": {
   "codemirror_mode": {
    "name": "mojo"
   },
   "file_extension": ".mojo",
   "mimetype": "text/x-mojo",
   "name": "mojo"
  }
 },
 "nbformat": 4,
 "nbformat_minor": 5
}
